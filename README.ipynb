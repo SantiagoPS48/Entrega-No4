{
 "cells": [
  {
   "cell_type": "markdown",
   "id": "4f7a96cb-5ec9-4ce5-9503-b24cafd48b1f",
   "metadata": {},
   "source": [
    "El siguiente trabajo nos pone en un hipotetico puesto como ingenieros de una empresa provehedora de internet, telefonia y servicios similares.\n",
    "\n",
    "Como ingeniero le piden realizar un programa que permita prever si un cliente cualquiera seguira contratando el servicio segun sus datos ya registrados, para este fin se le da un archivo con la base de datos referente a otros usuarios y la información de si han cancelada o no el servivio.\n",
    "\n",
    "Este tipo de predicciones pueden ser utiles para la empresa por diversos motivos, como analizar cuales son las coaracteristicas de sus usuarios mas leales\n",
    "y proceder como la empresa pueda considerar adecuado en dicho caso."
   ]
  }
 ],
 "metadata": {
  "kernelspec": {
   "display_name": "Python 3 (ipykernel)",
   "language": "python",
   "name": "python3"
  },
  "language_info": {
   "codemirror_mode": {
    "name": "ipython",
    "version": 3
   },
   "file_extension": ".py",
   "mimetype": "text/x-python",
   "name": "python",
   "nbconvert_exporter": "python",
   "pygments_lexer": "ipython3",
   "version": "3.11.5"
  }
 },
 "nbformat": 4,
 "nbformat_minor": 5
}
